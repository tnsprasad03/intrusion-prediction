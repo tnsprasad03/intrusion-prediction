{
 "metadata": {
  "name": "",
  "signature": "sha256:b465e938ce1a0ca8da82129122624778aeb105cbd2b6b9ba5d556eb814f92873"
 },
 "nbformat": 3,
 "nbformat_minor": 0,
 "worksheets": [
  {
   "cells": [
    {
     "cell_type": "code",
     "collapsed": false,
     "input": [
      "import numpy as np\n",
      "from sklearn import metrics,preprocessing,cross_validation\n",
      "import sklearn.linear_model as lm\n",
      "import pandas as p\n",
      "from pprint import pprint\n",
      "from time import time\n",
      "import logging\n",
      "from sklearn.metrics import roc_auc_score\n",
      "from sklearn.linear_model import SGDClassifier\n",
      "from sklearn.grid_search import GridSearchCV\n",
      "from sklearn.pipeline import Pipeline\n",
      "from sklearn.feature_extraction.text import HashingVectorizer\n",
      "from sklearn.feature_selection import SelectKBest, chi2\n",
      "from sklearn.linear_model import RidgeClassifier\n",
      "from sklearn.svm import LinearSVC\n",
      "from sklearn.linear_model import SGDClassifier, LogisticRegression\n",
      "from sklearn.naive_bayes import BernoulliNB, MultinomialNB\n",
      "from sklearn.neighbors import KNeighborsClassifier\n",
      "from sklearn.neighbors import NearestCentroid\n",
      "from sklearn import metrics\n",
      "from sklearn import cross_validation\n",
      "import pandas as pd\n",
      "import numpy as np\n",
      "import json\n",
      "from sklearn.cluster import KMeans, MiniBatchKMeans\n",
      "from sklearn import metrics\n",
      "from sklearn.metrics import mean_squared_error\n",
      "import scipy.sparse\n",
      "from sklearn.ensemble import RandomForestClassifier\n",
      "\n",
      "\n",
      "df = pd.read_csv(\"../data/ProcessedData.csv\")"
     ],
     "language": "python",
     "metadata": {},
     "outputs": [],
     "prompt_number": 22
    },
    {
     "cell_type": "code",
     "collapsed": false,
     "input": [
      "df.head()"
     ],
     "language": "python",
     "metadata": {},
     "outputs": [
      {
       "html": [
        "<div style=\"max-height:1000px;max-width:1500px;overflow:auto;\">\n",
        "<table border=\"1\" class=\"dataframe\">\n",
        "  <thead>\n",
        "    <tr style=\"text-align: right;\">\n",
        "      <th></th>\n",
        "      <th>Unnamed: 0</th>\n",
        "      <th>duration:</th>\n",
        "      <th>protocol_type:</th>\n",
        "      <th>service:</th>\n",
        "      <th>flag:</th>\n",
        "      <th>src_bytes:</th>\n",
        "      <th>dst_bytes:</th>\n",
        "      <th>land:</th>\n",
        "      <th>wrong_fragment:</th>\n",
        "      <th>urgent:</th>\n",
        "      <th>hot:</th>\n",
        "      <th>num_failed_logins:</th>\n",
        "      <th>logged_in:</th>\n",
        "      <th>num_compromised:</th>\n",
        "      <th>root_shell:</th>\n",
        "      <th>su_attempted:</th>\n",
        "      <th>num_root:</th>\n",
        "      <th>num_file_creations:</th>\n",
        "      <th>num_shells:</th>\n",
        "      <th>num_access_files:</th>\n",
        "      <th></th>\n",
        "    </tr>\n",
        "  </thead>\n",
        "  <tbody>\n",
        "    <tr>\n",
        "      <th>0</th>\n",
        "      <td> 0</td>\n",
        "      <td> 0</td>\n",
        "      <td> tcp</td>\n",
        "      <td> http</td>\n",
        "      <td> SF</td>\n",
        "      <td> 215</td>\n",
        "      <td> 45076</td>\n",
        "      <td> 0</td>\n",
        "      <td> 0</td>\n",
        "      <td> 0</td>\n",
        "      <td> 0</td>\n",
        "      <td> 0</td>\n",
        "      <td> 1</td>\n",
        "      <td> 0</td>\n",
        "      <td> 0</td>\n",
        "      <td> 0</td>\n",
        "      <td> 0</td>\n",
        "      <td> 0</td>\n",
        "      <td> 0</td>\n",
        "      <td> 0</td>\n",
        "      <td>...</td>\n",
        "    </tr>\n",
        "    <tr>\n",
        "      <th>1</th>\n",
        "      <td> 1</td>\n",
        "      <td> 0</td>\n",
        "      <td> tcp</td>\n",
        "      <td> http</td>\n",
        "      <td> SF</td>\n",
        "      <td> 162</td>\n",
        "      <td>  4528</td>\n",
        "      <td> 0</td>\n",
        "      <td> 0</td>\n",
        "      <td> 0</td>\n",
        "      <td> 0</td>\n",
        "      <td> 0</td>\n",
        "      <td> 1</td>\n",
        "      <td> 0</td>\n",
        "      <td> 0</td>\n",
        "      <td> 0</td>\n",
        "      <td> 0</td>\n",
        "      <td> 0</td>\n",
        "      <td> 0</td>\n",
        "      <td> 0</td>\n",
        "      <td>...</td>\n",
        "    </tr>\n",
        "    <tr>\n",
        "      <th>2</th>\n",
        "      <td> 2</td>\n",
        "      <td> 0</td>\n",
        "      <td> tcp</td>\n",
        "      <td> http</td>\n",
        "      <td> SF</td>\n",
        "      <td> 236</td>\n",
        "      <td>  1228</td>\n",
        "      <td> 0</td>\n",
        "      <td> 0</td>\n",
        "      <td> 0</td>\n",
        "      <td> 0</td>\n",
        "      <td> 0</td>\n",
        "      <td> 1</td>\n",
        "      <td> 0</td>\n",
        "      <td> 0</td>\n",
        "      <td> 0</td>\n",
        "      <td> 0</td>\n",
        "      <td> 0</td>\n",
        "      <td> 0</td>\n",
        "      <td> 0</td>\n",
        "      <td>...</td>\n",
        "    </tr>\n",
        "    <tr>\n",
        "      <th>3</th>\n",
        "      <td> 3</td>\n",
        "      <td> 0</td>\n",
        "      <td> tcp</td>\n",
        "      <td> http</td>\n",
        "      <td> SF</td>\n",
        "      <td> 233</td>\n",
        "      <td>  2032</td>\n",
        "      <td> 0</td>\n",
        "      <td> 0</td>\n",
        "      <td> 0</td>\n",
        "      <td> 0</td>\n",
        "      <td> 0</td>\n",
        "      <td> 1</td>\n",
        "      <td> 0</td>\n",
        "      <td> 0</td>\n",
        "      <td> 0</td>\n",
        "      <td> 0</td>\n",
        "      <td> 0</td>\n",
        "      <td> 0</td>\n",
        "      <td> 0</td>\n",
        "      <td>...</td>\n",
        "    </tr>\n",
        "    <tr>\n",
        "      <th>4</th>\n",
        "      <td> 4</td>\n",
        "      <td> 0</td>\n",
        "      <td> tcp</td>\n",
        "      <td> http</td>\n",
        "      <td> SF</td>\n",
        "      <td> 239</td>\n",
        "      <td>   486</td>\n",
        "      <td> 0</td>\n",
        "      <td> 0</td>\n",
        "      <td> 0</td>\n",
        "      <td> 0</td>\n",
        "      <td> 0</td>\n",
        "      <td> 1</td>\n",
        "      <td> 0</td>\n",
        "      <td> 0</td>\n",
        "      <td> 0</td>\n",
        "      <td> 0</td>\n",
        "      <td> 0</td>\n",
        "      <td> 0</td>\n",
        "      <td> 0</td>\n",
        "      <td>...</td>\n",
        "    </tr>\n",
        "  </tbody>\n",
        "</table>\n",
        "<p>5 rows \u00d7 43 columns</p>\n",
        "</div>"
       ],
       "metadata": {},
       "output_type": "pyout",
       "prompt_number": 23,
       "text": [
        "   Unnamed: 0  duration: protocol_type: service: flag:  src_bytes:  \\\n",
        "0           0          0            tcp     http    SF         215   \n",
        "1           1          0            tcp     http    SF         162   \n",
        "2           2          0            tcp     http    SF         236   \n",
        "3           3          0            tcp     http    SF         233   \n",
        "4           4          0            tcp     http    SF         239   \n",
        "\n",
        "   dst_bytes:  land:  wrong_fragment:  urgent:  hot:  num_failed_logins:  \\\n",
        "0       45076      0                0        0     0                   0   \n",
        "1        4528      0                0        0     0                   0   \n",
        "2        1228      0                0        0     0                   0   \n",
        "3        2032      0                0        0     0                   0   \n",
        "4         486      0                0        0     0                   0   \n",
        "\n",
        "   logged_in:  num_compromised:  root_shell:  su_attempted:  num_root:  \\\n",
        "0           1                 0            0              0          0   \n",
        "1           1                 0            0              0          0   \n",
        "2           1                 0            0              0          0   \n",
        "3           1                 0            0              0          0   \n",
        "4           1                 0            0              0          0   \n",
        "\n",
        "   num_file_creations:  num_shells:  num_access_files:      \n",
        "0                    0            0                  0 ...  \n",
        "1                    0            0                  0 ...  \n",
        "2                    0            0                  0 ...  \n",
        "3                    0            0                  0 ...  \n",
        "4                    0            0                  0 ...  \n",
        "\n",
        "[5 rows x 43 columns]"
       ]
      }
     ],
     "prompt_number": 23
    },
    {
     "cell_type": "heading",
     "level": 1,
     "metadata": {},
     "source": [
      "The original data was 742 MB large and the training labeled sets were extremely uneven. I.e. there were many more normal labeled rows than other rows. This would cause significant overfitting and bias issues in the modelling. Hence we decided to cut down out training data and randomly select rows from each label type such that the samples are better distributed."
     ]
    },
    {
     "cell_type": "code",
     "collapsed": false,
     "input": [
      "df.TypeOfTransaction.value_counts()\n"
     ],
     "language": "python",
     "metadata": {},
     "outputs": [
      {
       "metadata": {},
       "output_type": "pyout",
       "prompt_number": 24,
       "text": [
        "normal.             10000\n",
        "smurf.               5000\n",
        "portsweep.           2000\n",
        "guess_passwd.          53\n",
        "buffer_overflow.       30\n",
        "spy.                    2\n",
        "dtype: int64"
       ]
      }
     ],
     "prompt_number": 24
    },
    {
     "cell_type": "heading",
     "level": 1,
     "metadata": {},
     "source": [
      "We need to vectorize categorical columns such that we can use this for the clustering and prediction. "
     ]
    },
    {
     "cell_type": "code",
     "collapsed": false,
     "input": [
      "# feats = pd.read_table(\"random-forest-freatures.txt\",header=None)\n",
      "# most_valuable_features = feats.values.flatten()\n",
      "# newdf = df[most_valuable_features]\n",
      "newdf = pd.merge(df,pd.get_dummies(df[\"protocol_type:\"]),right_index=True,left_index=True)\n"
     ],
     "language": "python",
     "metadata": {},
     "outputs": [],
     "prompt_number": 25
    },
    {
     "cell_type": "heading",
     "level": 1,
     "metadata": {},
     "source": [
      "Now lets perform the KMeans clustering with the most informative \n",
      "features that come out of BigML. This is mainly to manage computation time."
     ]
    },
    {
     "cell_type": "code",
     "collapsed": false,
     "input": [
      "km_bodies = KMeans(n_clusters=10, init='k-means++', max_iter=100, n_init=1)\n",
      "res = km_bodies.fit(df[[\"src_bytes:\",\"dst_bytes:\",\"dst_host_diff_srv_rate:\",\"dst_host_serror_rate:\",\"serror_rate:\"]].values)\n",
      "df[[\"src_bytes:\",\"dst_bytes:\",\"dst_host_diff_srv_rate:\",\"dst_host_serror_rate:\",\"serror_rate:\"]].values\n",
      "res.cluster_centers_"
     ],
     "language": "python",
     "metadata": {},
     "outputs": [
      {
       "metadata": {},
       "output_type": "pyout",
       "prompt_number": 26,
       "text": [
        "array([[  1.80638184e+02,   8.59885830e+02,   1.83328566e-01,\n",
        "          1.05875343e-02,   2.17566440e-02],\n",
        "       [  6.93375640e+08,   0.00000000e+00,   9.00000000e-02,\n",
        "          1.80000000e-01,   7.90000000e-01],\n",
        "       [  2.68415094e+02,   7.38580943e+04,   5.55111512e-17,\n",
        "          1.73584906e-02,   1.41509434e-02],\n",
        "       [  2.75996441e+02,   2.50815480e+04,   1.03202847e-03,\n",
        "          3.91459075e-03,   9.82206406e-03],\n",
        "       [  2.60689098e+02,   1.34147524e+04,   6.19111709e-04,\n",
        "          2.13997308e-03,   3.84925976e-03],\n",
        "       [  2.19600000e+02,   2.28631600e+05,   0.00000000e+00,\n",
        "          0.00000000e+00,   0.00000000e+00],\n",
        "       [  2.63928571e+02,   1.16506571e+05,  -1.38777878e-17,\n",
        "          2.85714286e-03,  -1.73472348e-18],\n",
        "       [  2.76248171e+02,   5.35801951e+03,   2.29268293e-03,\n",
        "          8.29268293e-04,   1.45121951e-03],\n",
        "       [  2.45870130e+02,   4.63511169e+04,   8.32667268e-17,\n",
        "          3.89610390e-04,  -6.93889390e-18],\n",
        "       [  1.14125935e+03,   5.53039116e+01,   1.81139456e-02,\n",
        "          3.19727891e-04,  -3.69496100e-16]])"
       ]
      }
     ],
     "prompt_number": 26
    },
    {
     "cell_type": "code",
     "collapsed": false,
     "input": [
      "regression_df = df[[\"src_bytes:\",\"dst_bytes:\",\"dst_host_diff_srv_rate:\",\"dst_host_serror_rate:\",\"serror_rate:\"]].values"
     ],
     "language": "python",
     "metadata": {},
     "outputs": [],
     "prompt_number": 27
    },
    {
     "cell_type": "code",
     "collapsed": false,
     "input": [
      "y = df.TypeOfTransaction.values\n",
      "y[np.where(y=='normal.')] = 0\n",
      "y[np.where(y!=0)] = 1\n",
      "x = regression_df"
     ],
     "language": "python",
     "metadata": {},
     "outputs": [],
     "prompt_number": 28
    },
    {
     "cell_type": "heading",
     "level": 1,
     "metadata": {},
     "source": [
      "Now given the clustering, we would like to be able to identify outliers. To illustrate this concept visually, we will reduce the dimensionality to 2 and plot the cluster centroids and the decision boundary. The key here is to only perform the clustering on transactions that are known to be normal. Once that is done, then the clusters can be used to identify whether NEW transactions are anomalous (far away from known clusters) or normal (close to known clusters).\n"
     ]
    },
    {
     "cell_type": "code",
     "collapsed": false,
     "input": [
      "import numpy as np\n",
      "import pylab as pl\n",
      "import matplotlib.font_manager\n",
      "from sklearn import svm\n",
      "\n",
      "xx, yy = np.meshgrid(np.linspace(-5, 5, 500), np.linspace(-5, 5, 500))\n",
      "# Generate train data\n",
      "X = 0.3 * np.random.randn(100, 2)\n",
      "X_train = np.r_[X + 2, X - 2]\n",
      "# Generate some regular novel observations\n",
      "X = 0.3 * np.random.randn(20, 2)\n",
      "X_test = np.r_[X + 2, X - 2]\n",
      "# Generate some abnormal novel observations\n",
      "X_outliers = np.random.uniform(low=-4, high=4, size=(20, 2))\n",
      "\n",
      "# fit the model\n",
      "clf = svm.OneClassSVM(nu=0.1, kernel=\"rbf\", gamma=0.1)\n",
      "clf.fit(X_train)\n",
      "y_pred_train = clf.predict(X_train)\n",
      "y_pred_test = clf.predict(X_test)\n",
      "y_pred_outliers = clf.predict(X_outliers)\n",
      "n_error_train = y_pred_train[y_pred_train == -1].size\n",
      "n_error_test = y_pred_test[y_pred_test == -1].size\n",
      "n_error_outliers = y_pred_outliers[y_pred_outliers == 1].size\n",
      "\n",
      "# plot the line, the points, and the nearest vectors to the plane\n",
      "Z = clf.decision_function(np.c_[xx.ravel(), yy.ravel()])\n",
      "Z = Z.reshape(xx.shape)\n",
      "\n",
      "pl.title(\"Anomaly Detection\")\n",
      "pl.contourf(xx, yy, Z, levels=np.linspace(Z.min(), 0, 7), cmap=pl.cm.Blues_r)\n",
      "a = pl.contour(xx, yy, Z, levels=[0], linewidths=2, colors='red')\n",
      "pl.contourf(xx, yy, Z, levels=[0, Z.max()], colors='orange')\n",
      "\n",
      "b1 = pl.scatter(X_train[:, 0], X_train[:, 1], c='white')\n",
      "b2 = pl.scatter(X_test[:, 0], X_test[:, 1], c='green')\n",
      "c = pl.scatter(X_outliers[:, 0], X_outliers[:, 1], c='red')\n",
      "pl.axis('tight')\n",
      "pl.xlim((-5, 5))\n",
      "pl.ylim((-5, 5))\n",
      "pl.legend([a.collections[0], b1, b2, c],\n",
      "          [\"learned frontier\", \"training observations\",\n",
      "           \"new regular observations\", \"new abnormal observations\"],\n",
      "          loc=\"upper left\",\n",
      "          prop=matplotlib.font_manager.FontProperties(size=11))\n",
      "pl.xlabel(\n",
      "    \"error train: %d/200 ; errors novel regular: %d/20 ; \"\n",
      "    \"errors novel abnormal: %d/20\"\n",
      "    % (n_error_train, n_error_test, n_error_outliers))\n",
      "pl.show()"
     ],
     "language": "python",
     "metadata": {},
     "outputs": [
      {
       "metadata": {},
       "output_type": "display_data",
       "png": "[encoded data removed]",
       "text": [
        "<matplotlib.figure.Figure at 0xab17346c>"
       ]
      }
     ],
     "prompt_number": 55
    },
    {
     "cell_type": "code",
     "collapsed": false,
     "input": [
      "km_bodies = KMeans(n_clusters=6, init='k-means++',data:image/png;base64,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 max_iter=100, n_init=1)\n",
      "res = km_bodies.fit(regression_df)\n",
      "\n",
      "\n",
      "df[\"cluster_assignment\"]=res.labels_\n"
     ],
     "language": "python",
     "metadata": {},
     "outputs": [],
     "prompt_number": 30
    },
    {
     "cell_type": "code",
     "collapsed": false,
     "input": [
      "import random\n",
      "df=df[0:1000]\n",
      "#df[\"IDs\"] = df.index\n",
      "df[\"edges\"] = \"\"\n",
      "unique_clusters = df.cluster_assignment.unique()\n",
      "for row in df.index:\n",
      "\tcluster = df.cluster_assignment[row]\n",
      "\t(clusters,) = np.where(df.cluster_assignment==cluster)\n",
      "\tdf[\"edges\"][row] = str(row) + \",\" + str( random.choice(clusters))"
     ],
     "language": "python",
     "metadata": {},
     "outputs": [],
     "prompt_number": 31
    },
    {
     "cell_type": "code",
     "collapsed": false,
     "input": [
      "df.edges.to_csv(\"ClusterWithEdges.csv\",index=True)\n",
      "df.to_csv(\"AllDataClusterWithEdges.csv\",index=True)\n"
     ],
     "language": "python",
     "metadata": {},
     "outputs": [],
     "prompt_number": 32
    },
    {
     "cell_type": "heading",
     "level": 1,
     "metadata": {},
     "source": [
      "Supervised Learning to detect Network Intrusion\n"
     ]
    },
    {
     "cell_type": "markdown",
     "metadata": {},
     "source": [
      "Supervised Machine learning models to detect intrusion based on the trained data.\n",
      "\n",
      "Comparision of three different models how they perform on the TCP dump ( network log data)\n",
      " \n",
      " 1) Logistic Regression\n",
      " \n",
      " 2) Random Forests \n",
      " \n",
      " 3) K-Nearest Neighbors\n",
      " \n",
      "\n"
     ]
    },
    {
     "cell_type": "code",
     "collapsed": false,
     "input": [
      "import sys, getopt\n",
      "import json\n",
      "import numpy as np\n",
      "import pandas as pd\n",
      "from sklearn.cluster import KMeans,MiniBatchKMeans\n",
      "from math import sqrt\n",
      "from sklearn.feature_extraction.text import TfidfVectorizer\n",
      "from sklearn.feature_extraction.text import CountVectorizer\n",
      "from sklearn import metrics\n",
      "import json\n",
      "from sklearn.linear_model import LogisticRegression\n",
      "from sklearn import cross_validation\n",
      "from sklearn.ensemble import RandomForestClassifier\n",
      "from sklearn.ensemble import GradientBoostingClassifier\n",
      "from sklearn.preprocessing import scale\n",
      "from sklearn.cross_validation import train_test_split\n",
      "from sklearn.neighbors import KNeighborsClassifier\n",
      "import pdb\n",
      "\n",
      "accuracy = []\n",
      "\n",
      "def executeModel(m):\n",
      "   \n",
      "   df = pd.read_csv(\"../data/ProcessedData.csv\", na_values='?',delimiter=',')\n",
      "   snip = df\n",
      "   #snip = df[:12000]\n",
      "   #pdb.set_trace()\n",
      "\n",
      "   y = np.array(snip['TypeOfTransaction'])\n",
      "   y[np.where(y == 'normal.')] = 0 \n",
      "   y[np.where(y!=0)] = 1 \n",
      "\n",
      "   snip = snip.drop('TypeOfTransaction',1)\n",
      "   snip = snip.drop('protocol_type:',1)\n",
      "   snip = snip.drop('service:',1)\n",
      "   snip = snip.drop('flag:',1)\n",
      "\n",
      "   X = np.array(snip)\n",
      "\n",
      "   #df_test = pd.read_csv(\"../data/kddtest.data\", na_values='?',delimiter=',')\n",
      "   df_test = pd.read_csv(\"../data/kdd-realtime.data\", na_values='?',delimiter=',')\n",
      "   tsnip = df_test\n",
      "\n",
      "   y_t = np.array(tsnip['TypeOfTransaction'])\n",
      "   y_t[np.where(y_t == 'normal.')] = 0 \n",
      "   y_t[np.where(y_t!=0)] = 1 \n",
      "\n",
      "\n",
      "   tsnip = tsnip.drop('TypeOfTransaction',1)\n",
      "   tsnip = tsnip.drop('protocol_type:',1)\n",
      "   tsnip = tsnip.drop('service:',1)\n",
      "   tsnip = tsnip.drop('flag:',1)\n",
      "\n",
      "   X_t = np.array(tsnip)\n",
      "\n",
      "\n",
      "   print \"X Data train: \",X.shape\n",
      "   print \"Real data set: \",X_t.shape\n",
      "   \n",
      "\n",
      "   #sys.exit()\n",
      "   \n",
      "   X_train, X_test, y_train, y_test = train_test_split(X, y, test_size=0.1, random_state=42)\n",
      "   clf = ()\n",
      "\n",
      "   if m == 'lr':\n",
      "      print \"Running Logistic Regression ...\"\n",
      "      clf  = LogisticRegression(C=1, penalty='l2', tol=0.01)\n",
      "\n",
      "   if m == 'rf':\n",
      "      print \"Running Random Forest Classifier ...\"\n",
      "      clf = RandomForestClassifier(verbose=10, n_estimators=10, n_jobs=-1, max_features=20)\n",
      "\n",
      "   if m == 'knn':\n",
      "      print \"Running K-Nearest Neighbors with 5 neighbhors ...\"\n",
      "      clf = KNeighborsClassifier(n_neighbors=5)\n",
      "\n",
      "   clf = clf.fit(X_train, y_train)\n",
      "   y_pred = clf.predict(X_test)\n",
      "\n",
      "   pred_true = sum(y_pred==y_test)\n",
      "   actual_true = len(y_test)\n",
      "   print \"Prediction Accuracy : %f \" %(pred_true * 100.0 /actual_true)\n",
      "   accuracy.append(pred_true * 100.0 /actual_true)\n",
      "\n",
      "   y_t_pred = clf.predict(X_t)\n",
      "\n",
      "   t_pred_true = sum(y_t_pred==y_t)\n",
      "   t_actual_true = len(y_t)\n",
      "   print \"Realtime - Prediction Accuracy : %f \" %(t_pred_true * 100.0 /t_actual_true)\n",
      "   accuracy.append(t_pred_true * 100.0 /t_actual_true)\n"
     ],
     "language": "python",
     "metadata": {},
     "outputs": [],
     "prompt_number": 52
    },
    {
     "cell_type": "code",
     "collapsed": false,
     "input": [
      "# Logistic Regression on the Test Data to compare Accuracy on the Train and Test set.\n",
      "accuracy = []\n",
      "#executeModel('lr')\n"
     ],
     "language": "python",
     "metadata": {},
     "outputs": [],
     "prompt_number": 54
    },
    {
     "cell_type": "code",
     "collapsed": false,
     "input": [
      "# K-Nearest Neighbors on the Test Data to compare Accuracy on the Train and Test set.\n",
      "accuracy = []\n",
      "executeModel('knn')"
     ],
     "language": "python",
     "metadata": {},
     "outputs": [
      {
       "output_type": "stream",
       "stream": "stdout",
       "text": [
        "X Data train:  (17085, 39)\n",
        "Real data set:  (494021, 39)\n",
        "Running K-Nearest Neighbors with 5 neighbhors ...\n",
        "Prediction Accuracy : 100.000000 "
       ]
      },
      {
       "output_type": "stream",
       "stream": "stdout",
       "text": [
        "\n",
        "Realtime - Prediction Accuracy : 19.691066 "
       ]
      },
      {
       "output_type": "stream",
       "stream": "stdout",
       "text": [
        "\n"
       ]
      }
     ],
     "prompt_number": 53
    },
    {
     "cell_type": "code",
     "collapsed": false,
     "input": [
      "# Random Forest Classifier on the Test Data to compare Accuracy on the Train and Test set.\n",
      "accuracy = []\n",
      "executeModel('rf')"
     ],
     "language": "python",
     "metadata": {},
     "outputs": [
      {
       "output_type": "stream",
       "stream": "stdout",
       "text": [
        "X Data train:  (17085, 39)\n",
        "Real data set:  (494021, 39)\n",
        "Running Random Forest Classifier ...\n"
       ]
      },
      {
       "output_type": "stream",
       "stream": "stderr",
       "text": [
        "[Parallel(n_jobs=8)]: Done   3 out of   8 | elapsed:    0.1s remaining:    0.1s\n",
        "[Parallel(n_jobs=8)]: Done   1 out of   8 | elapsed:    0.1s remaining:    0.6s\n",
        "[Parallel(n_jobs=8)]: Done   6 out of   8 | elapsed:    0.1s remaining:    0.0s\n",
        "[Parallel(n_jobs=8)]: Done   7 out of   8 | elapsed:    0.1s remaining:    0.0s\n",
        "[Parallel(n_jobs=8)]: Done   4 out of   8 | elapsed:    0.1s remaining:    0.1s\n",
        "[Parallel(n_jobs=8)]: Done   5 out of   8 | elapsed:    0.1s remaining:    0.1s\n",
        "[Parallel(n_jobs=8)]: Done   2 out of   8 | elapsed:    0.1s remaining:    0.4s\n",
        "[Parallel(n_jobs=8)]: Done   8 out of   8 | elapsed:    0.1s finished\n"
       ]
      },
      {
       "output_type": "stream",
       "stream": "stdout",
       "text": [
        "building tree 1 of 2\n",
        "building tree 1 of 2\n",
        "building tree 1 of 1\n",
        "building tree 1 of 1\n",
        "building tree 1 of 1\n",
        "building tree 1 of 1\n",
        "building tree 1 of 1\n",
        "building tree 1 of 1\n",
        "building tree 2 of 2\n",
        "building tree 2 of 2\n"
       ]
      },
      {
       "output_type": "stream",
       "stream": "stdout",
       "text": [
        "Prediction Accuracy : 100.000000 \n"
       ]
      },
      {
       "output_type": "stream",
       "stream": "stderr",
       "text": [
        "[Parallel(n_jobs=8)]: Done   1 out of   8 | elapsed:    0.0s remaining:    0.1s\n",
        "[Parallel(n_jobs=8)]: Done   2 out of   8 | elapsed:    0.0s remaining:    0.0s\n",
        "[Parallel(n_jobs=8)]: Done   3 out of   8 | elapsed:    0.0s remaining:    0.0s\n",
        "[Parallel(n_jobs=8)]: Done   4 out of   8 | elapsed:    0.0s remaining:    0.0s\n",
        "[Parallel(n_jobs=8)]: Done   5 out of   8 | elapsed:    0.0s remaining:    0.0s\n",
        "[Parallel(n_jobs=8)]: Done   6 out of   8 | elapsed:    0.0s remaining:    0.0s\n",
        "[Parallel(n_jobs=8)]: Done   7 out of   8 | elapsed:    0.0s remaining:    0.0s\n",
        "[Parallel(n_jobs=8)]: Done   8 out of   8 | elapsed:    0.0s finished\n"
       ]
      },
      {
       "output_type": "stream",
       "stream": "stderr",
       "text": [
        "[Parallel(n_jobs=8)]: Done   1 out of   8 | elapsed:    0.4s remaining:    2.5s\n",
        "[Parallel(n_jobs=8)]: Done   2 out of   8 | elapsed:    0.5s remaining:    1.5s\n",
        "[Parallel(n_jobs=8)]: Done   3 out of   8 | elapsed:    0.6s remaining:    1.1s\n",
        "[Parallel(n_jobs=8)]: Done   4 out of   8 | elapsed:    0.9s remaining:    0.9s\n",
        "[Parallel(n_jobs=8)]: Done   5 out of   8 | elapsed:    1.1s remaining:    0.6s\n",
        "[Parallel(n_jobs=8)]: Done   6 out of   8 | elapsed:    1.3s remaining:    0.4s\n",
        "[Parallel(n_jobs=8)]: Done   7 out of   8 | elapsed:    1.5s remaining:    0.2s\n",
        "[Parallel(n_jobs=8)]: Done   8 out of   8 | elapsed:    1.6s finished\n"
       ]
      },
      {
       "output_type": "stream",
       "stream": "stdout",
       "text": [
        "Realtime - Prediction Accuracy : 19.691066 \n"
       ]
      }
     ],
     "prompt_number": 37
    },
    {
     "cell_type": "code",
     "collapsed": false,
     "input": [
      "accuracy = [98.488526,19.691066,19.691066 ]\n",
      "model = [\"logistic regression\", \"K nearest Neighbors\", \"Random Forests\"]\n"
     ],
     "language": "python",
     "metadata": {},
     "outputs": [],
     "prompt_number": 44
    },
    {
     "cell_type": "code",
     "collapsed": false,
     "input": [],
     "language": "python",
     "metadata": {},
     "outputs": []
    }
   ],
   "metadata": {}
  }
 ]
}