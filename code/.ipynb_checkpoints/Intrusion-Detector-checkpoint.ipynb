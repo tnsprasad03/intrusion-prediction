{
 "metadata": {
  "name": "",
  "signature": "sha256:f9109b0f3ac758ca7794364811c3bb0fc6659f7c5715a609aa0f010b6a80255b"
 },
 "nbformat": 3,
 "nbformat_minor": 0,
 "worksheets": [
  {
   "cells": [
    {
     "cell_type": "code",
     "collapsed": false,
     "input": [
      "import numpy as np\n",
      "from sklearn import metrics,preprocessing,cross_validation\n",
      "import sklearn.linear_model as lm\n",
      "import pandas as p\n",
      "from pprint import pprint\n",
      "from time import time\n",
      "import logging\n",
      "from sklearn.metrics import roc_auc_score\n",
      "from sklearn.linear_model import SGDClassifier\n",
      "from sklearn.grid_search import GridSearchCV\n",
      "from sklearn.pipeline import Pipeline\n",
      "from sklearn.feature_extraction.text import HashingVectorizer\n",
      "from sklearn.feature_selection import SelectKBest, chi2\n",
      "from sklearn.linear_model import RidgeClassifier\n",
      "from sklearn.svm import LinearSVC\n",
      "from sklearn.linear_model import SGDClassifier, LogisticRegression\n",
      "from sklearn.naive_bayes import BernoulliNB, MultinomialNB\n",
      "from sklearn.neighbors import KNeighborsClassifier\n",
      "from sklearn.neighbors import NearestCentroid\n",
      "from sklearn import metrics\n",
      "from sklearn import cross_validation\n",
      "import pandas as pd\n",
      "import numpy as np\n",
      "import json\n",
      "from sklearn.cluster import KMeans, MiniBatchKMeans\n",
      "from sklearn import metrics\n",
      "from sklearn.metrics import mean_squared_error\n",
      "import scipy.sparse\n",
      "from sklearn.ensemble import RandomForestClassifier\n",
      "\n",
      "\n",
      "df = pd.read_csv(\"ProcessedData.csv\")"
     ],
     "language": "python",
     "metadata": {},
     "outputs": [],
     "prompt_number": 160
    },
    {
     "cell_type": "code",
     "collapsed": false,
     "input": [
      "df.head()"
     ],
     "language": "python",
     "metadata": {},
     "outputs": [
      {
       "html": [
        "<div style=\"max-height:1000px;max-width:1500px;overflow:auto;\">\n",
        "<table border=\"1\" class=\"dataframe\">\n",
        "  <thead>\n",
        "    <tr style=\"text-align: right;\">\n",
        "      <th></th>\n",
        "      <th>duration:</th>\n",
        "      <th>protocol_type:</th>\n",
        "      <th>service:</th>\n",
        "      <th>flag:</th>\n",
        "      <th>src_bytes:</th>\n",
        "      <th>dst_bytes:</th>\n",
        "      <th>land:</th>\n",
        "      <th>wrong_fragment:</th>\n",
        "      <th>urgent:</th>\n",
        "      <th>hot:</th>\n",
        "      <th>num_failed_logins:</th>\n",
        "      <th>logged_in:</th>\n",
        "      <th>num_compromised:</th>\n",
        "      <th>root_shell:</th>\n",
        "      <th>su_attempted:</th>\n",
        "      <th>num_root:</th>\n",
        "      <th>num_file_creations:</th>\n",
        "      <th>num_shells:</th>\n",
        "      <th>num_access_files:</th>\n",
        "      <th>num_outbound_cmds:</th>\n",
        "      <th></th>\n",
        "    </tr>\n",
        "  </thead>\n",
        "  <tbody>\n",
        "    <tr>\n",
        "      <th>0</th>\n",
        "      <td> 0</td>\n",
        "      <td> tcp</td>\n",
        "      <td> http</td>\n",
        "      <td> SF</td>\n",
        "      <td> 215</td>\n",
        "      <td> 45076</td>\n",
        "      <td> 0</td>\n",
        "      <td> 0</td>\n",
        "      <td> 0</td>\n",
        "      <td> 0</td>\n",
        "      <td> 0</td>\n",
        "      <td> 1</td>\n",
        "      <td> 0</td>\n",
        "      <td> 0</td>\n",
        "      <td> 0</td>\n",
        "      <td> 0</td>\n",
        "      <td> 0</td>\n",
        "      <td> 0</td>\n",
        "      <td> 0</td>\n",
        "      <td> 0</td>\n",
        "      <td>...</td>\n",
        "    </tr>\n",
        "    <tr>\n",
        "      <th>1</th>\n",
        "      <td> 0</td>\n",
        "      <td> tcp</td>\n",
        "      <td> http</td>\n",
        "      <td> SF</td>\n",
        "      <td> 162</td>\n",
        "      <td>  4528</td>\n",
        "      <td> 0</td>\n",
        "      <td> 0</td>\n",
        "      <td> 0</td>\n",
        "      <td> 0</td>\n",
        "      <td> 0</td>\n",
        "      <td> 1</td>\n",
        "      <td> 0</td>\n",
        "      <td> 0</td>\n",
        "      <td> 0</td>\n",
        "      <td> 0</td>\n",
        "      <td> 0</td>\n",
        "      <td> 0</td>\n",
        "      <td> 0</td>\n",
        "      <td> 0</td>\n",
        "      <td>...</td>\n",
        "    </tr>\n",
        "    <tr>\n",
        "      <th>2</th>\n",
        "      <td> 0</td>\n",
        "      <td> tcp</td>\n",
        "      <td> http</td>\n",
        "      <td> SF</td>\n",
        "      <td> 236</td>\n",
        "      <td>  1228</td>\n",
        "      <td> 0</td>\n",
        "      <td> 0</td>\n",
        "      <td> 0</td>\n",
        "      <td> 0</td>\n",
        "      <td> 0</td>\n",
        "      <td> 1</td>\n",
        "      <td> 0</td>\n",
        "      <td> 0</td>\n",
        "      <td> 0</td>\n",
        "      <td> 0</td>\n",
        "      <td> 0</td>\n",
        "      <td> 0</td>\n",
        "      <td> 0</td>\n",
        "      <td> 0</td>\n",
        "      <td>...</td>\n",
        "    </tr>\n",
        "    <tr>\n",
        "      <th>3</th>\n",
        "      <td> 0</td>\n",
        "      <td> tcp</td>\n",
        "      <td> http</td>\n",
        "      <td> SF</td>\n",
        "      <td> 233</td>\n",
        "      <td>  2032</td>\n",
        "      <td> 0</td>\n",
        "      <td> 0</td>\n",
        "      <td> 0</td>\n",
        "      <td> 0</td>\n",
        "      <td> 0</td>\n",
        "      <td> 1</td>\n",
        "      <td> 0</td>\n",
        "      <td> 0</td>\n",
        "      <td> 0</td>\n",
        "      <td> 0</td>\n",
        "      <td> 0</td>\n",
        "      <td> 0</td>\n",
        "      <td> 0</td>\n",
        "      <td> 0</td>\n",
        "      <td>...</td>\n",
        "    </tr>\n",
        "    <tr>\n",
        "      <th>4</th>\n",
        "      <td> 0</td>\n",
        "      <td> tcp</td>\n",
        "      <td> http</td>\n",
        "      <td> SF</td>\n",
        "      <td> 239</td>\n",
        "      <td>   486</td>\n",
        "      <td> 0</td>\n",
        "      <td> 0</td>\n",
        "      <td> 0</td>\n",
        "      <td> 0</td>\n",
        "      <td> 0</td>\n",
        "      <td> 1</td>\n",
        "      <td> 0</td>\n",
        "      <td> 0</td>\n",
        "      <td> 0</td>\n",
        "      <td> 0</td>\n",
        "      <td> 0</td>\n",
        "      <td> 0</td>\n",
        "      <td> 0</td>\n",
        "      <td> 0</td>\n",
        "      <td>...</td>\n",
        "    </tr>\n",
        "  </tbody>\n",
        "</table>\n",
        "<p>5 rows \u00d7 42 columns</p>\n",
        "</div>"
       ],
       "metadata": {},
       "output_type": "pyout",
       "prompt_number": 161,
       "text": [
        "   duration: protocol_type: service: flag:  src_bytes:  dst_bytes:  land:  \\\n",
        "0          0            tcp     http    SF         215       45076      0   \n",
        "1          0            tcp     http    SF         162        4528      0   \n",
        "2          0            tcp     http    SF         236        1228      0   \n",
        "3          0            tcp     http    SF         233        2032      0   \n",
        "4          0            tcp     http    SF         239         486      0   \n",
        "\n",
        "   wrong_fragment:  urgent:  hot:  num_failed_logins:  logged_in:  \\\n",
        "0                0        0     0                   0           1   \n",
        "1                0        0     0                   0           1   \n",
        "2                0        0     0                   0           1   \n",
        "3                0        0     0                   0           1   \n",
        "4                0        0     0                   0           1   \n",
        "\n",
        "   num_compromised:  root_shell:  su_attempted:  num_root:  \\\n",
        "0                 0            0              0          0   \n",
        "1                 0            0              0          0   \n",
        "2                 0            0              0          0   \n",
        "3                 0            0              0          0   \n",
        "4                 0            0              0          0   \n",
        "\n",
        "   num_file_creations:  num_shells:  num_access_files:  num_outbound_cmds:      \n",
        "0                    0            0                  0                   0 ...  \n",
        "1                    0            0                  0                   0 ...  \n",
        "2                    0            0                  0                   0 ...  \n",
        "3                    0            0                  0                   0 ...  \n",
        "4                    0            0                  0                   0 ...  \n",
        "\n",
        "[5 rows x 42 columns]"
       ]
      }
     ],
     "prompt_number": 161
    },
    {
     "cell_type": "code",
     "collapsed": false,
     "input": [
      "df.TypeOfTransaction.value_counts()\n"
     ],
     "language": "python",
     "metadata": {},
     "outputs": [
      {
       "metadata": {},
       "output_type": "pyout",
       "prompt_number": 162,
       "text": [
        "normal.             10000\n",
        "smurf.               5000\n",
        "portsweep.           2000\n",
        "guess_passwd.          53\n",
        "buffer_overflow.       30\n",
        "spy.                    2\n",
        "dtype: int64"
       ]
      }
     ],
     "prompt_number": 162
    },
    {
     "cell_type": "heading",
     "level": 1,
     "metadata": {},
     "source": [
      "We need to vectorize categorical columns such that we can use this for the clustering and prediction. "
     ]
    },
    {
     "cell_type": "code",
     "collapsed": false,
     "input": [
      "# feats = pd.read_table(\"random-forest-freatures.txt\",header=None)\n",
      "# most_valuable_features = feats.values.flatten()\n",
      "# newdf = df[most_valuable_features]\n",
      "newdf = pd.merge(df,pd.get_dummies(df[\"protocol_type:\"]),right_index=True,left_index=True)\n"
     ],
     "language": "python",
     "metadata": {},
     "outputs": [],
     "prompt_number": 163
    },
    {
     "cell_type": "heading",
     "level": 1,
     "metadata": {},
     "source": [
      "Now lets perform the KMeans clustering with the most informative \n",
      "features that come out of BigML. This is mainly to manage computation time."
     ]
    },
    {
     "cell_type": "code",
     "collapsed": false,
     "input": [
      "km_bodies = KMeans(n_clusters=10, init='k-means++', max_iter=100, n_init=1)\n",
      "res = km_bodies.fit(df[[\"src_bytes:\",\"dst_bytes:\",\"dst_host_diff_srv_rate:\",\"dst_host_serror_rate:\",\"serror_rate:\"]].values)"
     ],
     "language": "python",
     "metadata": {},
     "outputs": [],
     "prompt_number": 164
    },
    {
     "cell_type": "code",
     "collapsed": false,
     "input": [
      "regression_df = df[[\"src_bytes:\",\"dst_bytes:\",\"dst_host_diff_srv_rate:\",\"dst_host_serror_rate:\",\"serror_rate:\"]].values"
     ],
     "language": "python",
     "metadata": {},
     "outputs": [],
     "prompt_number": 165
    },
    {
     "cell_type": "code",
     "collapsed": false,
     "input": [
      "y = df.TypeOfTransaction.values\n",
      "y[np.where(y=='normal.')] = 0\n",
      "y[np.where(y!=0)] = 1\n",
      "x = regression_df"
     ],
     "language": "python",
     "metadata": {},
     "outputs": [],
     "prompt_number": 166
    },
    {
     "cell_type": "heading",
     "level": 1,
     "metadata": {},
     "source": [
      "Now given the clustering, we would like to be able to identify outliers. To illustrate this concept visually, we will reduce the dimensionality to 2 and plot the cluster centroids and the decision boundary. The key here is to only perform the clustering on transactions that are known to be normal. Once that is done, then the clusters can be used to identify whether NEW transactions are anomalous (far away from known clusters) or normal (close to known clusters).\n"
     ]
    },
    {
     "cell_type": "code",
     "collapsed": false,
     "input": [
      "import numpy as np\n",
      "import pylab as pl\n",
      "import matplotlib.font_manager\n",
      "from sklearn import svm\n",
      "\n",
      "xx, yy = np.meshgrid(np.linspace(-5, 5, 500), np.linspace(-5, 5, 500))\n",
      "# Generate train data\n",
      "X = 0.3 * np.random.randn(100, 2)\n",
      "X_train = np.r_[X + 2, X - 2]\n",
      "# Generate some regular novel observations\n",
      "X = 0.3 * np.random.randn(20, 2)\n",
      "X_test = np.r_[X + 2, X - 2]\n",
      "# Generate some abnormal novel observations\n",
      "X_outliers = np.random.uniform(low=-4, high=4, size=(20, 2))\n",
      "\n",
      "# fit the model\n",
      "clf = svm.OneClassSVM(nu=0.1, kernel=\"rbf\", gamma=0.1)\n",
      "clf.fit(X_train)\n",
      "y_pred_train = clf.predict(X_train)\n",
      "y_pred_test = clf.predict(X_test)\n",
      "y_pred_outliers = clf.predict(X_outliers)\n",
      "n_error_train = y_pred_train[y_pred_train == -1].size\n",
      "n_error_test = y_pred_test[y_pred_test == -1].size\n",
      "n_error_outliers = y_pred_outliers[y_pred_outliers == 1].size\n",
      "\n",
      "# plot the line, the points, and the nearest vectors to the plane\n",
      "Z = clf.decision_function(np.c_[xx.ravel(), yy.ravel()])\n",
      "Z = Z.reshape(xx.shape)\n",
      "\n",
      "pl.title(\"Anomaly Detection\")\n",
      "pl.contourf(xx, yy, Z, levels=np.linspace(Z.min(), 0, 7), cmap=pl.cm.Blues_r)\n",
      "a = pl.contour(xx, yy, Z, levels=[0], linewidths=2, colors='red')\n",
      "pl.contourf(xx, yy, Z, levels=[0, Z.max()], colors='orange')\n",
      "\n",
      "b1 = pl.scatter(X_train[:, 0], X_train[:, 1], c='white')\n",
      "b2 = pl.scatter(X_test[:, 0], X_test[:, 1], c='green')\n",
      "c = pl.scatter(X_outliers[:, 0], X_outliers[:, 1], c='red')\n",
      "pl.axis('tight')\n",
      "pl.xlim((-5, 5))\n",
      "pl.ylim((-5, 5))\n",
      "pl.legend([a.collections[0], b1, b2, c],\n",
      "          [\"learned frontier\", \"training observations\",\n",
      "           \"new regular observations\", \"new abnormal observations\"],\n",
      "          loc=\"upper left\",\n",
      "          prop=matplotlib.font_manager.FontProperties(size=11))\n",
      "pl.xlabel(\n",
      "    \"error train: %d/200 ; errors novel regular: %d/20 ; \"\n",
      "    \"errors novel abnormal: %d/20\"\n",
      "    % (n_error_train, n_error_test, n_error_outliers))\n",
      "pl.show()"
     ],
     "language": "python",
     "metadata": {},
     "outputs": [
      {
       "metadata": {},
       "output_type": "display_data",
       "png": "[encoded data removed]",
       "text": [
        "<matplotlib.figure.Figure at 0xa8039d0c>"
       ]
      }
     ],
     "prompt_number": 167
    },
    {
     "cell_type": "code",
     "collapsed": false,
     "input": [
      "km_bodies = KMeans(n_clusters=6, init='k-means++', max_iter=100, n_init=1)\n",
      "res = km_bodies.fit(regression_df)\n",
      "\n",
      "\n",
      "df[\"cluster_assignment\"]=res.labels_\n"
     ],
     "language": "python",
     "metadata": {},
     "outputs": [],
     "prompt_number": 168
    },
    {
     "cell_type": "code",
     "collapsed": false,
     "input": [
      "import random\n",
      "df=df[0:1000]\n",
      "#df[\"IDs\"] = df.index\n",
      "df[\"edges\"] = \"\"\n",
      "unique_clusters = df.cluster_assignment.unique()\n",
      "for row in df.index:\n",
      "\tcluster = df.cluster_assignment[row]\n",
      "\t(clusters,) = np.where(df.cluster_assignment==cluster)\n",
      "\tdf[\"edges\"][row] = str(row) + \",\" + str( random.choice(clusters))"
     ],
     "language": "python",
     "metadata": {},
     "outputs": [],
     "prompt_number": 169
    },
    {
     "cell_type": "code",
     "collapsed": false,
     "input": [
      "df.edges.to_csv(\"ClusterWithEdges.csv\",index=True)\n",
      "df.to_csv(\"AllDataClusterWithEdges.csv\",index=True)\n"
     ],
     "language": "python",
     "metadata": {},
     "outputs": [],
     "prompt_number": 171
    },
    {
     "cell_type": "heading",
     "level": 1,
     "metadata": {},
     "source": [
      "Supervised Learning to detect Network Intrusion\n"
     ]
    },
    {
     "cell_type": "markdown",
     "metadata": {},
     "source": [
      "Supervised Machine learning models to detect intrusion based on the trained data.\n",
      "\n",
      "Comparision of three different models how they perform on the TCP dump ( network log data)\n",
      " \n",
      " 1) Logistic Regression\n",
      " \n",
      " 2) Random Forests \n",
      " \n",
      " 3) K-Nearest Neighbors\n",
      " \n",
      "\n"
     ]
    },
    {
     "cell_type": "code",
     "collapsed": false,
     "input": [
      "import sys, getopt\n",
      "import json\n",
      "import numpy as np\n",
      "import pandas as pd\n",
      "from sklearn.cluster import KMeans,MiniBatchKMeans\n",
      "from math import sqrt\n",
      "from sklearn.feature_extraction.text import TfidfVectorizer\n",
      "from sklearn.feature_extraction.text import CountVectorizer\n",
      "from sklearn import metrics\n",
      "import json\n",
      "from sklearn.linear_model import LogisticRegression\n",
      "from sklearn import cross_validation\n",
      "from sklearn.ensemble import RandomForestClassifier\n",
      "from sklearn.ensemble import GradientBoostingClassifier\n",
      "from sklearn.preprocessing import scale\n",
      "from sklearn.cross_validation import train_test_split\n",
      "from sklearn.neighbors import KNeighborsClassifier\n",
      "import pdb\n",
      "\n",
      "accuracy = []\n",
      "\n",
      "def executeModel(m):\n",
      "   \n",
      "   df = pd.read_csv(\"../data/ProcessedData.csv\", na_values='?',delimiter=',')\n",
      "   snip = df\n",
      "   #snip = df[:12000]\n",
      "   #pdb.set_trace()\n",
      "\n",
      "   y = np.array(snip['TypeOfTransaction'])\n",
      "   y[np.where(y == 'normal.')] = 0 \n",
      "   y[np.where(y!=0)] = 1 \n",
      "\n",
      "   snip = snip.drop('TypeOfTransaction',1)\n",
      "   snip = snip.drop('protocol_type:',1)\n",
      "   snip = snip.drop('service:',1)\n",
      "   snip = snip.drop('flag:',1)\n",
      "\n",
      "   X = np.array(snip)\n",
      "\n",
      "   #df_test = pd.read_csv(\"../data/kddtest.data\", na_values='?',delimiter=',')\n",
      "   df_test = pd.read_csv(\"../data/kdd-realtime.data\", na_values='?',delimiter=',')\n",
      "   tsnip = df_test\n",
      "\n",
      "   y_t = np.array(tsnip['TypeOfTransaction'])\n",
      "   y_t[np.where(y_t == 'normal.')] = 0 \n",
      "   y_t[np.where(y_t!=0)] = 1 \n",
      "\n",
      "\n",
      "   tsnip = tsnip.drop('TypeOfTransaction',1)\n",
      "   tsnip = tsnip.drop('protocol_type:',1)\n",
      "   tsnip = tsnip.drop('service:',1)\n",
      "   tsnip = tsnip.drop('flag:',1)\n",
      "\n",
      "   X_t = np.array(tsnip)\n",
      "\n",
      "\n",
      "   print \"X Data train: \",X.shape\n",
      "   print \"Real data set: \",X_t.shape\n",
      "   \n",
      "\n",
      "   #sys.exit()\n",
      "   \n",
      "   X_train, X_test, y_train, y_test = train_test_split(X, y, test_size=0.1, random_state=42)\n",
      "   clf = ()\n",
      "\n",
      "   if m == 'lr':\n",
      "      print \"Running Logistic Regression ...\"\n",
      "      clf  = LogisticRegression(C=1, penalty='l2', tol=0.01)\n",
      "\n",
      "   if m == 'rf':\n",
      "      print \"Running Random Forest Classifier ...\"\n",
      "      clf = RandomForestClassifier(verbose=10, n_estimators=10, n_jobs=-1, max_features=20)\n",
      "\n",
      "   if m == 'knn':\n",
      "      print \"Running K-Nearest Neighbors with 5 neighbhors ...\"\n",
      "      clf = KNeighborsClassifier(n_neighbors=5)\n",
      "\n",
      "   clf = clf.fit(X_train, y_train)\n",
      "   y_pred = clf.predict(X_test)\n",
      "\n",
      "   pred_true = sum(y_pred==y_test)\n",
      "   actual_true = len(y_test)\n",
      "   print \"Prediction Accuracy : %f \" %(pred_true * 100.0 /actual_true)\n",
      "   accuracy.append(pred_true * 100.0 /actual_true)\n",
      "\n",
      "   y_t_pred = clf.predict(X_t)\n",
      "\n",
      "   t_pred_true = sum(y_t_pred==y_t)\n",
      "   t_actual_true = len(y_t)\n",
      "   print \"Realtime - Prediction Accuracy : %f \" %(t_pred_true * 100.0 /t_actual_true)\n",
      "   accuracy.append(t_pred_true * 100.0 /t_actual_true)\n"
     ],
     "language": "python",
     "metadata": {},
     "outputs": [],
     "prompt_number": 9
    },
    {
     "cell_type": "code",
     "collapsed": false,
     "input": [
      "# Logistic Regression on the Test Data to compare Accuracy on the Train and Test set.\n",
      "accuracy = []\n",
      "executeModel('lr')\n"
     ],
     "language": "python",
     "metadata": {},
     "outputs": [
      {
       "output_type": "stream",
       "stream": "stdout",
       "text": [
        "X Data train:  (17085, 39)\n",
        "Real data set:  (494021, 39)\n",
        "Running Logistic Regression ..."
       ]
      },
      {
       "output_type": "stream",
       "stream": "stdout",
       "text": [
        "\n",
        "Prediction Accuracy : 87.244002 "
       ]
      },
      {
       "output_type": "stream",
       "stream": "stdout",
       "text": [
        "\n",
        "Realtime - Prediction Accuracy : 98.507756 "
       ]
      },
      {
       "output_type": "stream",
       "stream": "stdout",
       "text": [
        "\n"
       ]
      }
     ],
     "prompt_number": 19
    },
    {
     "cell_type": "code",
     "collapsed": false,
     "input": [
      "# K-Nearest Neighbors on the Test Data to compare Accuracy on the Train and Test set.\n",
      "accuracy = []\n",
      "executeModel('knn')"
     ],
     "language": "python",
     "metadata": {},
     "outputs": [
      {
       "output_type": "stream",
       "stream": "stdout",
       "text": [
        "X Data train:  (17085, 39)\n",
        "Real data set:  (494021, 39)\n",
        "Running K-Nearest Neighbors with 5 neighbhors ..."
       ]
      },
      {
       "output_type": "stream",
       "stream": "stdout",
       "text": [
        "\n",
        "Prediction Accuracy : 100.000000 "
       ]
      },
      {
       "output_type": "stream",
       "stream": "stdout",
       "text": [
        "\n",
        "Realtime - Prediction Accuracy : 19.691066 "
       ]
      },
      {
       "output_type": "stream",
       "stream": "stdout",
       "text": [
        "\n"
       ]
      }
     ],
     "prompt_number": 6
    },
    {
     "cell_type": "code",
     "collapsed": false,
     "input": [
      "# Random Forest Classifier on the Test Data to compare Accuracy on the Train and Test set.\n",
      "accuracy = []\n",
      "executeModel('rf')"
     ],
     "language": "python",
     "metadata": {},
     "outputs": [
      {
       "output_type": "stream",
       "stream": "stdout",
       "text": [
        "X Data train:  (17085, 39)\n",
        "Real data set:  (494021, 39)\n",
        "Running Random Forest Classifier ..."
       ]
      },
      {
       "output_type": "stream",
       "stream": "stdout",
       "text": [
        "\n"
       ]
      },
      {
       "output_type": "stream",
       "stream": "stdout",
       "text": [
        "building tree 1 of 5\n",
        "building tree 1 of 5\n",
        "building tree 2 of 5building tree 2 of 5\n",
        "\n",
        "building tree 3 of 5\n",
        "building tree 3 of 5\n",
        "building tree 4 of 5building tree 4 of 5\n",
        "\n",
        "building tree 5 of 5\n",
        "building tree 5 of 5\n"
       ]
      },
      {
       "output_type": "stream",
       "stream": "stderr",
       "text": [
        "[Parallel(n_jobs=2)]: Done   1 out of   2 | elapsed:    0.3s remaining:    0.3s\n",
        "[Parallel(n_jobs=2)]: Done   2 out of   2 | elapsed:    0.4s finished\n"
       ]
      },
      {
       "output_type": "stream",
       "stream": "stderr",
       "text": [
        "[Parallel(n_jobs=2)]: Done   1 out of   2 | elapsed:    0.1s remaining:    0.1s\n",
        "[Parallel(n_jobs=2)]: Done   2 out of   2 | elapsed:    0.1s finished\n"
       ]
      },
      {
       "output_type": "stream",
       "stream": "stdout",
       "text": [
        "Prediction Accuracy : 100.000000 \n"
       ]
      },
      {
       "output_type": "stream",
       "stream": "stderr",
       "text": [
        "[Parallel(n_jobs=2)]: Done   1 out of   2 | elapsed:    1.5s remaining:    1.5s\n",
        "[Parallel(n_jobs=2)]: Done   2 out of   2 | elapsed:    1.8s finished\n"
       ]
      },
      {
       "output_type": "stream",
       "stream": "stdout",
       "text": [
        "Realtime - Prediction Accuracy : 19.691066 \n"
       ]
      }
     ],
     "prompt_number": 7
    },
    {
     "cell_type": "code",
     "collapsed": false,
     "input": [
      "# plot K-nearest Neighbors classifier performance"
     ],
     "language": "python",
     "metadata": {},
     "outputs": []
    }
   ],
   "metadata": {}
  }
 ]
}